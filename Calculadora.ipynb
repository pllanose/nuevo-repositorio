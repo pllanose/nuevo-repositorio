{
 "cells": [
  {
   "cell_type": "code",
   "execution_count": 3,
   "metadata": {
    "colab": {
     "base_uri": "https://localhost:8080/"
    },
    "executionInfo": {
     "elapsed": 8801,
     "status": "ok",
     "timestamp": 1750698544429,
     "user": {
      "displayName": "Pablo Llanos",
      "userId": "02912845096644455664"
     },
     "user_tz": 240
    },
    "id": "WJFx_zjr052c",
    "outputId": "2b642762-8598-4b69-8ee2-b812c8cc09f4"
   },
   "outputs": [
    {
     "name": "stdout",
     "output_type": "stream",
     "text": [
      "El resultado de la suma es:  132\n"
     ]
    }
   ],
   "source": [
    "\n",
    "operacion=input ('ingrese el número de la operación que desea realizar (1:suma/2:resta/3:multiplicación/4:División)')\n",
    "numero1=input ('Ingrese el primer número ')\n",
    "numero2=input ('Ingrese el segundo numero ')\n",
    "\n",
    "if (operacion == '1'):\n",
    "   resultado= int(numero1) + int(numero2)\n",
    "   nombreoperacion=('suma')\n",
    "elif operacion == '2':\n",
    "   resultado= int(numero1) - int(numero2)\n",
    "   nombreoperacion=('resta')\n",
    "elif operacion == '3':\n",
    "   resultado= int(numero1) * int(numero2)\n",
    "   nombreoperacion=('multiplicacion')\n",
    "elif operacion == '4':\n",
    "   resultado= int(numero1) / int(numero2)\n",
    "   nombreoperacion=('division')\n",
    "print ('El resultado de la',nombreoperacion, 'es: ', resultado)"
   ]
  },
  {
   "cell_type": "code",
   "execution_count": null,
   "metadata": {},
   "outputs": [],
   "source": []
  }
 ],
 "metadata": {
  "colab": {
   "authorship_tag": "ABX9TyMWpDkhmtnOpTy069JLPkfo",
   "provenance": []
  },
  "kernelspec": {
   "display_name": ".venv",
   "language": "python",
   "name": "python3"
  },
  "language_info": {
   "codemirror_mode": {
    "name": "ipython",
    "version": 3
   },
   "file_extension": ".py",
   "mimetype": "text/x-python",
   "name": "python",
   "nbconvert_exporter": "python",
   "pygments_lexer": "ipython3",
   "version": "3.13.3"
  }
 },
 "nbformat": 4,
 "nbformat_minor": 0
}
